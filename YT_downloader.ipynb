{
  "nbformat": 4,
  "nbformat_minor": 0,
  "metadata": {
    "colab": {
      "name": "YT downloader.ipynb",
      "provenance": [],
      "collapsed_sections": [],
      "authorship_tag": "ABX9TyN0hn3h6VXn93N9dLnHXpcG",
      "include_colab_link": true
    },
    "kernelspec": {
      "name": "python3",
      "display_name": "Python 3"
    }
  },
  "cells": [
    {
      "cell_type": "markdown",
      "metadata": {
        "id": "view-in-github",
        "colab_type": "text"
      },
      "source": [
        "<a href=\"https://colab.research.google.com/github/Cenation2812/YT-downloader/blob/main/YT_downloader.ipynb\" target=\"_parent\"><img src=\"https://colab.research.google.com/assets/colab-badge.svg\" alt=\"Open In Colab\"/></a>"
      ]
    },
    {
      "cell_type": "markdown",
      "metadata": {
        "id": "Lmu3BFVdXLrP"
      },
      "source": [
        "YouTube downloader"
      ]
    },
    {
      "cell_type": "code",
      "metadata": {
        "colab": {
          "base_uri": "https://localhost:8080/"
        },
        "id": "rD0NeLtEX-lo",
        "outputId": "d8a9fe3b-42a2-4f8a-d191-9eaf790ad471"
      },
      "source": [
        "!pip install git+https://github.com/pytube/pytube"
      ],
      "execution_count": 1,
      "outputs": [
        {
          "output_type": "stream",
          "text": [
            "Collecting git+https://github.com/pytube/pytube\n",
            "  Cloning https://github.com/pytube/pytube to /tmp/pip-req-build-amik3v2k\n",
            "  Running command git clone -q https://github.com/pytube/pytube /tmp/pip-req-build-amik3v2k\n",
            "Building wheels for collected packages: pytube\n",
            "  Building wheel for pytube (setup.py) ... \u001b[?25l\u001b[?25hdone\n",
            "  Created wheel for pytube: filename=pytube-11.0.0-py3-none-any.whl size=55893 sha256=83d53b1b4b263f7eb91c447793d64ef21bd8a57d782f017659155d0cd77086f7\n",
            "  Stored in directory: /tmp/pip-ephem-wheel-cache-btkp4h6l/wheels/b3/e8/f2/84cd0ef74d9d462fc3f42b04f91eb58ea13e22e5f8408147bf\n",
            "Successfully built pytube\n",
            "Installing collected packages: pytube\n",
            "Successfully installed pytube-11.0.0\n"
          ],
          "name": "stdout"
        }
      ]
    },
    {
      "cell_type": "code",
      "metadata": {
        "id": "wQF0tIA8YDUY"
      },
      "source": [
        "from pytube import YouTube"
      ],
      "execution_count": 2,
      "outputs": []
    },
    {
      "cell_type": "code",
      "metadata": {
        "colab": {
          "base_uri": "https://localhost:8080/"
        },
        "id": "moQzRof30X-2",
        "outputId": "a8c40535-340a-478c-903e-0dddcdf51879"
      },
      "source": [
        "!pip install youtube_dl"
      ],
      "execution_count": 3,
      "outputs": [
        {
          "output_type": "stream",
          "text": [
            "Collecting youtube_dl\n",
            "  Downloading youtube_dl-2021.6.6-py2.py3-none-any.whl (1.9 MB)\n",
            "\u001b[K     |████████████████████████████████| 1.9 MB 5.4 MB/s \n",
            "\u001b[?25hInstalling collected packages: youtube-dl\n",
            "Successfully installed youtube-dl-2021.6.6\n"
          ],
          "name": "stdout"
        }
      ]
    },
    {
      "cell_type": "code",
      "metadata": {
        "colab": {
          "base_uri": "https://localhost:8080/"
        },
        "id": "clq7q7y66rJO",
        "outputId": "4acea0ff-f6fb-49fe-975b-a3f6ba6db0af"
      },
      "source": [
        "print(\"Hey, what do you wish to download?(Audio or video)\")\n",
        "print(\"1.Audio\\n2.Video\")\n",
        "choice = input()\n",
        "\n",
        "if choice == '1':\n",
        "\n",
        "  from youtube_dl import YoutubeDL\n",
        "  audio_downloader = YoutubeDL({'format':'bestaudio'})\n",
        "  while True:\n",
        "    try:\n",
        "      print('Youtube Downloader'.center(40, '_'))\n",
        "      URL = input(\"Enter youtube url:\")\n",
        "      audio_downloader.extract_info(URL)\n",
        "    except Exception:\n",
        "        print(\"Couldn\\'t download the audio\")\n",
        "    finally:\n",
        "        option = int(input('\\n1.download again \\n2.Exit\\n\\nOption here :'))\n",
        "        if option!=1:\n",
        "            break\n",
        "else:\n",
        "  videoUrl= input(\"Hey, enter the video or audio link which u wish to download:\")\n",
        "try:\n",
        "  yt=YouTube(videoUrl)\n",
        "  print(\"Valid URL song download in progress...\")\n",
        "  yt.streams.first().download()\n",
        "except Exception as e:\n",
        "  print(\"Invalid URL, song couldn't be downloaded\")"
      ],
      "execution_count": 5,
      "outputs": [
        {
          "output_type": "stream",
          "text": [
            "Hey, what do you wish to download?(Audio or video)\n",
            "1.Audio\n",
            "2.Video\n",
            "1\n",
            "___________Youtube Downloader___________\n",
            "Enter youtube url:https://www.youtube.com/watch?v=DeumyOzKqgI\n",
            "[youtube] DeumyOzKqgI: Downloading webpage\n",
            "[youtube] DeumyOzKqgI: Downloading player b555ee94\n",
            "[download] Destination: Adele - Skyfall (Lyric Video)-DeumyOzKqgI.webm\n",
            "[download] 100% of 4.62MiB in 00:00\n",
            "\n",
            "1.download again \n",
            "2.Exit\n",
            "\n",
            "Option here :2\n",
            "Valid URL song download in progress...\n"
          ],
          "name": "stdout"
        }
      ]
    },
    {
      "cell_type": "code",
      "metadata": {
        "id": "TuOMbD7Y7cAd"
      },
      "source": [
        ""
      ],
      "execution_count": null,
      "outputs": []
    }
  ]
}